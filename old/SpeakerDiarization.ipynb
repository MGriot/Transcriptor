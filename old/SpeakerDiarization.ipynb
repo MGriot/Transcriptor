{
 "cells": [
  {
   "attachments": {},
   "cell_type": "markdown",
   "metadata": {},
   "source": [
    "## Importing Libraries"
   ]
  },
  {
   "cell_type": "code",
   "execution_count": 1,
   "metadata": {},
   "outputs": [],
   "source": [
    "import os\n",
    "import pickle\n",
    "import warnings\n",
    "import librosa\n",
    "import numpy as np\n",
    "import pandas as pd\n",
    "from sklearn.cluster import AgglomerativeClustering\n",
    "from sklearn.preprocessing import StandardScaler, normalize\n",
    "from sklearn.mixture import *\n",
    "import matplotlib.pyplot as plt"
   ]
  },
  {
   "attachments": {},
   "cell_type": "markdown",
   "metadata": {},
   "source": [
    "## Defining segment length frame rate and bit rate "
   ]
  },
  {
   "cell_type": "code",
   "execution_count": 2,
   "metadata": {},
   "outputs": [],
   "source": [
    "segLen,frameRate,numMix = 3,50,128"
   ]
  },
  {
   "attachments": {},
   "cell_type": "markdown",
   "metadata": {},
   "source": [
    "## Function for Voice Activity Detection"
   ]
  },
  {
   "cell_type": "code",
   "execution_count": 3,
   "metadata": {},
   "outputs": [],
   "source": [
    "def VoiceActivityDetection(wavData, frameRate):\n",
    "    # uses the librosa library to compute short-term energy\n",
    "    ste = librosa.feature.rms(y=wavData,hop_length=int(16000/frameRate)).T\n",
    "    thresh = 0.1*(np.percentile(ste,97.5) + 9*np.percentile(ste,2.5))    # Trim 5% off and set threshold as 0.1x of the ste range\n",
    "    return (ste>thresh).astype('bool')"
   ]
  },
  {
   "cell_type": "code",
   "execution_count": 4,
   "metadata": {},
   "outputs": [],
   "source": [
    "wavFile=\"audio/4547.mp3\""
   ]
  },
  {
   "cell_type": "code",
   "execution_count": 5,
   "metadata": {},
   "outputs": [
    {
     "name": "stdout",
     "output_type": "stream",
     "text": [
      "CPU times: total: 578 ms\n",
      "Wall time: 578 ms\n"
     ]
    }
   ],
   "source": [
    "wavData,_ = librosa.load(wavFile,sr=16000)\n",
    "%time vad=VoiceActivityDetection(wavData,frameRate)"
   ]
  },
  {
   "cell_type": "code",
   "execution_count": 6,
   "metadata": {},
   "outputs": [],
   "source": [
    "mfcc = librosa.feature.mfcc(y=wavData, sr=16000, n_mfcc=20,hop_length=int(16000/frameRate)).T\n",
    "vad = np.reshape(vad,(len(vad),))\n",
    "if mfcc.shape[0] > vad.shape[0]:\n",
    "    vad = np.hstack((vad,np.zeros(mfcc.shape[0] - vad.shape[0]).astype('bool'))).astype('bool')\n",
    "elif mfcc.shape[0] < vad.shape[0]:\n",
    "    vad = vad[:mfcc.shape[0]]\n",
    "mfcc = mfcc[vad,:];"
   ]
  },
  {
   "cell_type": "code",
   "execution_count": 19,
   "metadata": {},
   "outputs": [
    {
     "name": "stdout",
     "output_type": "stream",
     "text": [
      "[ True  True  True ...  True  True  True]\n"
     ]
    }
   ],
   "source": [
    "print(vad)"
   ]
  },
  {
   "attachments": {},
   "cell_type": "markdown",
   "metadata": {},
   "source": [
    "## N_Component"
   ]
  },
  {
   "cell_type": "code",
   "execution_count": 7,
   "metadata": {},
   "outputs": [],
   "source": [
    "n_components = np.arange(1, 25)\n",
    "models = [GaussianMixture(n, covariance_type='full', random_state=0).fit(mfcc)\n",
    "          for n in n_components]"
   ]
  },
  {
   "cell_type": "code",
   "execution_count": 8,
   "metadata": {},
   "outputs": [
    {
     "data": {
      "image/png": "[encoded data removed]",
      "text/plain": [
       "<Figure size 640x480 with 1 Axes>"
      ]
     },
     "metadata": {},
     "output_type": "display_data"
    }
   ],
   "source": [
    "#plt.figure(figsize=(15, 10))\n",
    "plt.plot(n_components, [m.bic(mfcc) for m in models], label='BIC')\n",
    "plt.plot(n_components, [m.aic(mfcc) for m in models], label='AIC')\n",
    "plt.legend(loc='best')\n",
    "plt.xlabel('GMM n_components for an audio file');"
   ]
  },
  {
   "attachments": {},
   "cell_type": "markdown",
   "metadata": {},
   "source": [
    "## GMM Training"
   ]
  },
  {
   "cell_type": "code",
   "execution_count": 9,
   "metadata": {},
   "outputs": [],
   "source": [
    "def trainGMM(wavFile, frameRate, segLen, vad, numMix):\n",
    "    wavData,_ = librosa.load(wavFile,sr=16000)\n",
    "    mfcc = librosa.feature.mfcc(y=wavData, sr=16000, n_mfcc=20,hop_length=int(16000/frameRate)).T\n",
    "    vad = np.reshape(vad,(len(vad),))\n",
    "    if mfcc.shape[0] > vad.shape[0]:\n",
    "        vad = np.hstack((vad,np.zeros(mfcc.shape[0] - vad.shape[0]).astype('bool'))).astype('bool')\n",
    "    elif mfcc.shape[0] < vad.shape[0]:\n",
    "        vad = vad[:mfcc.shape[0]]\n",
    "    mfcc = mfcc[vad,:];\n",
    "    print(\"Training GMM..\")\n",
    "    GMM = GaussianMixture(n_components=numMix,covariance_type='diag').fit(mfcc)\n",
    "    var_floor = 1e-5\n",
    "    segLikes = []\n",
    "    segSize = frameRate*segLen\n",
    "    for segI in range(int(np.ceil(float(mfcc.shape[0])/(frameRate*segLen)))):\n",
    "        startI = segI*segSize\n",
    "        endI = (segI+1)*segSize\n",
    "        if endI > mfcc.shape[0]:\n",
    "            endI = mfcc.shape[0]-1\n",
    "        if endI==startI:    # Reached the end of file\n",
    "            break\n",
    "        seg = mfcc[startI:endI,:]\n",
    "        compLikes = np.sum(GMM.predict_proba(seg),0)\n",
    "        segLikes.append(compLikes/seg.shape[0])\n",
    "    print(\"Training Done\")\n",
    "\n",
    "    return np.asarray(segLikes)"
   ]
  },
  {
   "cell_type": "code",
   "execution_count": 10,
   "metadata": {},
   "outputs": [
    {
     "name": "stdout",
     "output_type": "stream",
     "text": [
      "Training GMM..\n",
      "Training Done\n"
     ]
    }
   ],
   "source": [
    "clusterset = trainGMM(wavFile, frameRate, segLen, vad, numMix)"
   ]
  },
  {
   "attachments": {},
   "cell_type": "markdown",
   "metadata": {},
   "source": [
    "## Clustering Analysis"
   ]
  },
  {
   "cell_type": "code",
   "execution_count": 11,
   "metadata": {},
   "outputs": [],
   "source": [
    "scaler = StandardScaler()\n",
    "X_scaled = scaler.fit_transform(clusterset)  \n",
    "# Normalizing the data so that the data approximately \n",
    "# follows a Gaussian distribution\n",
    "X_normalized = normalize(X_scaled)"
   ]
  },
  {
   "cell_type": "code",
   "execution_count": 12,
   "metadata": {},
   "outputs": [],
   "source": [
    "\n",
    "cluster = AgglomerativeClustering(n_clusters=2, metric='euclidean', linkage='ward') \n",
    "clust=cluster.fit_predict(X_normalized)"
   ]
  },
  {
   "attachments": {},
   "cell_type": "markdown",
   "metadata": {},
   "source": [
    "## Convert Segment to Frame"
   ]
  },
  {
   "cell_type": "code",
   "execution_count": 13,
   "metadata": {},
   "outputs": [],
   "source": [
    "def SegmentFrame(clust, segLen, frameRate, numFrames):\n",
    "    frameClust = np.zeros(numFrames)\n",
    "    for clustI in range(len(clust)-1):\n",
    "        frameClust[clustI*segLen*frameRate:(clustI+1)*segLen*frameRate] = clust[clustI]*np.ones(segLen*frameRate)\n",
    "    frameClust[(clustI+1)*segLen*frameRate:] = clust[clustI+1]*np.ones(numFrames-(clustI+1)*segLen*frameRate)\n",
    "    return frameClust"
   ]
  },
  {
   "cell_type": "code",
   "execution_count": 14,
   "metadata": {},
   "outputs": [],
   "source": [
    "frameClust = SegmentFrame(clust, segLen, frameRate, mfcc.shape[0])\n"
   ]
  },
  {
   "attachments": {},
   "cell_type": "markdown",
   "metadata": {},
   "source": [
    "## Adding Speaker Labels"
   ]
  },
  {
   "cell_type": "code",
   "execution_count": 15,
   "metadata": {},
   "outputs": [],
   "source": [
    "def speakerdiarisationdf(hyp, frameRate, wavFile):\n",
    "    audioname=[]\n",
    "    starttime=[]\n",
    "    endtime=[]\n",
    "    speakerlabel=[]\n",
    "            \n",
    "    spkrChangePoints = np.where(hyp[:-1] != hyp[1:])[0]\n",
    "    if spkrChangePoints[0]!=0 and hyp[0]!=-1:\n",
    "        spkrChangePoints = np.concatenate(([0],spkrChangePoints))\n",
    "    spkrLabels = []    \n",
    "    for spkrHomoSegI in range(len(spkrChangePoints)):\n",
    "        spkrLabels.append(hyp[spkrChangePoints[spkrHomoSegI]+1])\n",
    "    for spkrI,spkr in enumerate(spkrLabels[:-1]):\n",
    "        if spkr!=-1:\n",
    "            audioname.append(wavFile.split('/')[-1].split('.')[0]+\".wav\")\n",
    "            starttime.append((spkrChangePoints[spkrI]+1)/float(frameRate))\n",
    "            endtime.append((spkrChangePoints[spkrI+1]-spkrChangePoints[spkrI])/float(frameRate))\n",
    "            speakerlabel.append(\"Speaker \"+str(int(spkr)))\n",
    "    if spkrLabels[-1]!=-1:\n",
    "        audioname.append(wavFile.split('/')[-1].split('.')[0]+\".wav\")\n",
    "        starttime.append(spkrChangePoints[-1]/float(frameRate))\n",
    "        endtime.append((len(hyp) - spkrChangePoints[-1])/float(frameRate))\n",
    "        speakerlabel.append(\"Speaker \"+str(int(spkrLabels[-1])))\n",
    "    #\n",
    "    speakerdf=pd.DataFrame({\"Audio\":audioname,\"starttime\":starttime,\"endtime\":endtime,\"speakerlabel\":speakerlabel})\n",
    "    \n",
    "    spdatafinal=pd.DataFrame(columns=['Audio','SpeakerLabel','StartTime [seconds]','EndTime [seconds]'])\n",
    "    i=0\n",
    "    k=0\n",
    "    j=0\n",
    "    spfind=\"\"\n",
    "    stime=\"\"\n",
    "    etime=\"\"\n",
    "    for row in speakerdf.itertuples():\n",
    "        if(i==0):\n",
    "            spfind=row.speakerlabel\n",
    "            stime=row.starttime\n",
    "        else:\n",
    "            if(spfind==row.speakerlabel):\n",
    "                etime=row.starttime        \n",
    "            else:\n",
    "                spdatafinal.loc[k]=[wavFile.split('/')[-1].split('.')[0]+\".wav\",spfind,stime,row.starttime]\n",
    "                k=k+1\n",
    "                spfind=row.speakerlabel\n",
    "                stime=row.starttime\n",
    "        i=i+1\n",
    "    spdatafinal.loc[k]=[wavFile.split('/')[-1].split('.')[0]+\".wav\",spfind,stime,etime]\n",
    "    return spdatafinal\n",
    "    "
   ]
  },
  {
   "cell_type": "code",
   "execution_count": 16,
   "metadata": {},
   "outputs": [],
   "source": [
    "pass1hyp = -1*np.ones(len(vad))\n",
    "pass1hyp[vad] = frameClust\n",
    "spkdf=speakerdiarisationdf(pass1hyp, frameRate, wavFile)\n"
   ]
  },
  {
   "cell_type": "code",
   "execution_count": 17,
   "metadata": {},
   "outputs": [],
   "source": [
    "spkdf[\"Time [seconds]\"]=spkdf[\"EndTime [seconds]\"]-spkdf[\"StartTime [seconds]\"]"
   ]
  },
  {
   "cell_type": "code",
   "execution_count": 18,
   "metadata": {},
   "outputs": [
    {
     "data": {
      "text/html": [
       "<div>\n",
       "<style scoped>\n",
       "    .dataframe tbody tr th:only-of-type {\n",
       "        vertical-align: middle;\n",
       "    }\n",
       "\n",
       "    .dataframe tbody tr th {\n",
       "        vertical-align: top;\n",
       "    }\n",
       "\n",
       "    .dataframe thead th {\n",
       "        text-align: right;\n",
       "    }\n",
       "</style>\n",
       "<table border=\"1\" class=\"dataframe\">\n",
       "  <thead>\n",
       "    <tr style=\"text-align: right;\">\n",
       "      <th></th>\n",
       "      <th>Audio</th>\n",
       "      <th>SpeakerLabel</th>\n",
       "      <th>StartTime [seconds]</th>\n",
       "      <th>EndTime [seconds]</th>\n",
       "      <th>Time [seconds]</th>\n",
       "    </tr>\n",
       "  </thead>\n",
       "  <tbody>\n",
       "    <tr>\n",
       "      <th>0</th>\n",
       "      <td>4547.wav</td>\n",
       "      <td>Speaker 1</td>\n",
       "      <td>0.02</td>\n",
       "      <td>3.54</td>\n",
       "      <td>3.52</td>\n",
       "    </tr>\n",
       "    <tr>\n",
       "      <th>1</th>\n",
       "      <td>4547.wav</td>\n",
       "      <td>Speaker 0</td>\n",
       "      <td>3.54</td>\n",
       "      <td>7.94</td>\n",
       "      <td>4.40</td>\n",
       "    </tr>\n",
       "    <tr>\n",
       "      <th>2</th>\n",
       "      <td>4547.wav</td>\n",
       "      <td>Speaker 1</td>\n",
       "      <td>7.94</td>\n",
       "      <td>11.66</td>\n",
       "      <td>3.72</td>\n",
       "    </tr>\n",
       "    <tr>\n",
       "      <th>3</th>\n",
       "      <td>4547.wav</td>\n",
       "      <td>Speaker 0</td>\n",
       "      <td>11.66</td>\n",
       "      <td>30.42</td>\n",
       "      <td>18.76</td>\n",
       "    </tr>\n",
       "    <tr>\n",
       "      <th>4</th>\n",
       "      <td>4547.wav</td>\n",
       "      <td>Speaker 1</td>\n",
       "      <td>30.42</td>\n",
       "      <td>42.42</td>\n",
       "      <td>12.00</td>\n",
       "    </tr>\n",
       "    <tr>\n",
       "      <th>5</th>\n",
       "      <td>4547.wav</td>\n",
       "      <td>Speaker 0</td>\n",
       "      <td>42.42</td>\n",
       "      <td>53.36</td>\n",
       "      <td>10.94</td>\n",
       "    </tr>\n",
       "    <tr>\n",
       "      <th>6</th>\n",
       "      <td>4547.wav</td>\n",
       "      <td>Speaker 1</td>\n",
       "      <td>53.36</td>\n",
       "      <td>61.82</td>\n",
       "      <td>8.46</td>\n",
       "    </tr>\n",
       "    <tr>\n",
       "      <th>7</th>\n",
       "      <td>4547.wav</td>\n",
       "      <td>Speaker 0</td>\n",
       "      <td>61.82</td>\n",
       "      <td>83.30</td>\n",
       "      <td>21.48</td>\n",
       "    </tr>\n",
       "    <tr>\n",
       "      <th>8</th>\n",
       "      <td>4547.wav</td>\n",
       "      <td>Speaker 1</td>\n",
       "      <td>83.30</td>\n",
       "      <td>92.46</td>\n",
       "      <td>9.16</td>\n",
       "    </tr>\n",
       "    <tr>\n",
       "      <th>9</th>\n",
       "      <td>4547.wav</td>\n",
       "      <td>Speaker 0</td>\n",
       "      <td>92.46</td>\n",
       "      <td>102.42</td>\n",
       "      <td>9.96</td>\n",
       "    </tr>\n",
       "    <tr>\n",
       "      <th>10</th>\n",
       "      <td>4547.wav</td>\n",
       "      <td>Speaker 1</td>\n",
       "      <td>102.42</td>\n",
       "      <td>115.74</td>\n",
       "      <td>13.32</td>\n",
       "    </tr>\n",
       "    <tr>\n",
       "      <th>11</th>\n",
       "      <td>4547.wav</td>\n",
       "      <td>Speaker 0</td>\n",
       "      <td>115.74</td>\n",
       "      <td>128.08</td>\n",
       "      <td>12.34</td>\n",
       "    </tr>\n",
       "    <tr>\n",
       "      <th>12</th>\n",
       "      <td>4547.wav</td>\n",
       "      <td>Speaker 1</td>\n",
       "      <td>128.08</td>\n",
       "      <td>134.88</td>\n",
       "      <td>6.80</td>\n",
       "    </tr>\n",
       "    <tr>\n",
       "      <th>13</th>\n",
       "      <td>4547.wav</td>\n",
       "      <td>Speaker 0</td>\n",
       "      <td>134.88</td>\n",
       "      <td>139.02</td>\n",
       "      <td>4.14</td>\n",
       "    </tr>\n",
       "    <tr>\n",
       "      <th>14</th>\n",
       "      <td>4547.wav</td>\n",
       "      <td>Speaker 1</td>\n",
       "      <td>139.02</td>\n",
       "      <td>146.64</td>\n",
       "      <td>7.62</td>\n",
       "    </tr>\n",
       "    <tr>\n",
       "      <th>15</th>\n",
       "      <td>4547.wav</td>\n",
       "      <td>Speaker 0</td>\n",
       "      <td>146.64</td>\n",
       "      <td>174.28</td>\n",
       "      <td>27.64</td>\n",
       "    </tr>\n",
       "    <tr>\n",
       "      <th>16</th>\n",
       "      <td>4547.wav</td>\n",
       "      <td>Speaker 1</td>\n",
       "      <td>174.28</td>\n",
       "      <td>182.28</td>\n",
       "      <td>8.00</td>\n",
       "    </tr>\n",
       "    <tr>\n",
       "      <th>17</th>\n",
       "      <td>4547.wav</td>\n",
       "      <td>Speaker 0</td>\n",
       "      <td>182.28</td>\n",
       "      <td>190.12</td>\n",
       "      <td>7.84</td>\n",
       "    </tr>\n",
       "    <tr>\n",
       "      <th>18</th>\n",
       "      <td>4547.wav</td>\n",
       "      <td>Speaker 1</td>\n",
       "      <td>190.12</td>\n",
       "      <td>193.64</td>\n",
       "      <td>3.52</td>\n",
       "    </tr>\n",
       "    <tr>\n",
       "      <th>19</th>\n",
       "      <td>4547.wav</td>\n",
       "      <td>Speaker 0</td>\n",
       "      <td>193.64</td>\n",
       "      <td>197.68</td>\n",
       "      <td>4.04</td>\n",
       "    </tr>\n",
       "    <tr>\n",
       "      <th>20</th>\n",
       "      <td>4547.wav</td>\n",
       "      <td>Speaker 1</td>\n",
       "      <td>197.68</td>\n",
       "      <td>204.98</td>\n",
       "      <td>7.30</td>\n",
       "    </tr>\n",
       "    <tr>\n",
       "      <th>21</th>\n",
       "      <td>4547.wav</td>\n",
       "      <td>Speaker 0</td>\n",
       "      <td>204.98</td>\n",
       "      <td>216.92</td>\n",
       "      <td>11.94</td>\n",
       "    </tr>\n",
       "    <tr>\n",
       "      <th>22</th>\n",
       "      <td>4547.wav</td>\n",
       "      <td>Speaker 1</td>\n",
       "      <td>216.92</td>\n",
       "      <td>237.22</td>\n",
       "      <td>20.30</td>\n",
       "    </tr>\n",
       "    <tr>\n",
       "      <th>23</th>\n",
       "      <td>4547.wav</td>\n",
       "      <td>Speaker 0</td>\n",
       "      <td>237.22</td>\n",
       "      <td>240.74</td>\n",
       "      <td>3.52</td>\n",
       "    </tr>\n",
       "    <tr>\n",
       "      <th>24</th>\n",
       "      <td>4547.wav</td>\n",
       "      <td>Speaker 1</td>\n",
       "      <td>240.74</td>\n",
       "      <td>261.52</td>\n",
       "      <td>20.78</td>\n",
       "    </tr>\n",
       "    <tr>\n",
       "      <th>25</th>\n",
       "      <td>4547.wav</td>\n",
       "      <td>Speaker 0</td>\n",
       "      <td>261.52</td>\n",
       "      <td>281.80</td>\n",
       "      <td>20.28</td>\n",
       "    </tr>\n",
       "    <tr>\n",
       "      <th>26</th>\n",
       "      <td>4547.wav</td>\n",
       "      <td>Speaker 1</td>\n",
       "      <td>281.80</td>\n",
       "      <td>299.10</td>\n",
       "      <td>17.30</td>\n",
       "    </tr>\n",
       "  </tbody>\n",
       "</table>\n",
       "</div>"
      ],
      "text/plain": [
       "       Audio SpeakerLabel  StartTime [seconds]  EndTime [seconds]  \\\n",
       "0   4547.wav    Speaker 1                 0.02               3.54   \n",
       "1   4547.wav    Speaker 0                 3.54               7.94   \n",
       "2   4547.wav    Speaker 1                 7.94              11.66   \n",
       "3   4547.wav    Speaker 0                11.66              30.42   \n",
       "4   4547.wav    Speaker 1                30.42              42.42   \n",
       "5   4547.wav    Speaker 0                42.42              53.36   \n",
       "6   4547.wav    Speaker 1                53.36              61.82   \n",
       "7   4547.wav    Speaker 0                61.82              83.30   \n",
       "8   4547.wav    Speaker 1                83.30              92.46   \n",
       "9   4547.wav    Speaker 0                92.46             102.42   \n",
       "10  4547.wav    Speaker 1               102.42             115.74   \n",
       "11  4547.wav    Speaker 0               115.74             128.08   \n",
       "12  4547.wav    Speaker 1               128.08             134.88   \n",
       "13  4547.wav    Speaker 0               134.88             139.02   \n",
       "14  4547.wav    Speaker 1               139.02             146.64   \n",
       "15  4547.wav    Speaker 0               146.64             174.28   \n",
       "16  4547.wav    Speaker 1               174.28             182.28   \n",
       "17  4547.wav    Speaker 0               182.28             190.12   \n",
       "18  4547.wav    Speaker 1               190.12             193.64   \n",
       "19  4547.wav    Speaker 0               193.64             197.68   \n",
       "20  4547.wav    Speaker 1               197.68             204.98   \n",
       "21  4547.wav    Speaker 0               204.98             216.92   \n",
       "22  4547.wav    Speaker 1               216.92             237.22   \n",
       "23  4547.wav    Speaker 0               237.22             240.74   \n",
       "24  4547.wav    Speaker 1               240.74             261.52   \n",
       "25  4547.wav    Speaker 0               261.52             281.80   \n",
       "26  4547.wav    Speaker 1               281.80             299.10   \n",
       "\n",
       "    Time [seconds]  \n",
       "0             3.52  \n",
       "1             4.40  \n",
       "2             3.72  \n",
       "3            18.76  \n",
       "4            12.00  \n",
       "5            10.94  \n",
       "6             8.46  \n",
       "7            21.48  \n",
       "8             9.16  \n",
       "9             9.96  \n",
       "10           13.32  \n",
       "11           12.34  \n",
       "12            6.80  \n",
       "13            4.14  \n",
       "14            7.62  \n",
       "15           27.64  \n",
       "16            8.00  \n",
       "17            7.84  \n",
       "18            3.52  \n",
       "19            4.04  \n",
       "20            7.30  \n",
       "21           11.94  \n",
       "22           20.30  \n",
       "23            3.52  \n",
       "24           20.78  \n",
       "25           20.28  \n",
       "26           17.30  "
      ]
     },
     "execution_count": 18,
     "metadata": {},
     "output_type": "execute_result"
    }
   ],
   "source": [
    "spkdf"
   ]
  },
  {
   "cell_type": "code",
   "execution_count": null,
   "metadata": {},
   "outputs": [],
   "source": []
  }
 ],
 "metadata": {
  "kernelspec": {
   "display_name": "transcriptor",
   "language": "python",
   "name": "python3"
  },
  "language_info": {
   "codemirror_mode": {
    "name": "ipython",
    "version": 3
   },
   "file_extension": ".py",
   "mimetype": "text/x-python",
   "name": "python",
   "nbconvert_exporter": "python",
   "pygments_lexer": "ipython3",
   "version": "3.10.13"
  }
 },
 "nbformat": 4,
 "nbformat_minor": 4
}
