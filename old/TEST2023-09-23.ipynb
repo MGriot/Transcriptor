{
 "cells": [
  {
   "cell_type": "code",
   "execution_count": 6,
   "metadata": {},
   "outputs": [
    {
     "name": "stdout",
     "output_type": "stream",
     "text": [
      "File convertito in .wav e salvato come audio/Come STUDIARE allUNIVERSITÀ.wav\n"
     ]
    },
    {
     "name": "stderr",
     "output_type": "stream",
     "text": [
      "c:\\Users\\Admin\\anaconda3\\envs\\transcriptor\\lib\\site-packages\\whisper\\transcribe.py:112: UserWarning: Performing inference on CPU when CUDA is available\n",
      "  warnings.warn(\"Performing inference on CPU when CUDA is available\")\n",
      "c:\\Users\\Admin\\anaconda3\\envs\\transcriptor\\lib\\site-packages\\whisper\\transcribe.py:114: UserWarning: FP16 is not supported on CPU; using FP32 instead\n",
      "  warnings.warn(\"FP16 is not supported on CPU; using FP32 instead\")\n"
     ]
    },
    {
     "name": "stdout",
     "output_type": "stream",
     "text": [
      "Progresso: 2648/73437\n",
      "Progresso: 5296/73437\n",
      "Progresso: 7944/73437\n",
      "Progresso: 10592/73437\n",
      "Progresso: 13240/73437\n",
      "Progresso: 15888/73437\n",
      "Progresso: 18432/73437\n",
      "Progresso: 20976/73437\n",
      "Progresso: 23520/73437\n",
      "Progresso: 26064/73437\n",
      "Progresso: 28608/73437\n",
      "Progresso: 31152/73437\n",
      "Progresso: 34152/73437\n",
      "Progresso: 37152/73437\n",
      "Progresso: 40152/73437\n",
      "Progresso: 43152/73437\n",
      "Progresso: 46152/73437\n",
      "Progresso: 49152/73437\n"
     ]
    }
   ],
   "source": [
    "import os\n",
    "import sys\n",
    "import tqdm\n",
    "import urllib.request\n",
    "\n",
    "class _CustomProgressBar(tqdm.tqdm):\n",
    "    def __init__(self, *args, **kwargs):\n",
    "        super().__init__(*args, **kwargs)\n",
    "        self._current = self.n  # Imposta il valore iniziale\n",
    "\n",
    "    def update(self, n):\n",
    "        super().update(n)\n",
    "        self._current += n  # Gestisci qui il progresso\n",
    "        print(\"Progresso: \" + str(self._current) + \"/\" + str(self.total))\n",
    "\n",
    "# Inietta in tqdm.tqdm di Whisper, così possiamo vedere il progresso\n",
    "import whisper.transcribe\n",
    "transcribe_module = sys.modules['whisper.transcribe']\n",
    "transcribe_module.tqdm.tqdm = _CustomProgressBar\n",
    "\n",
    "import whisper\n",
    "#model = whisper.load_model(\"medium\")\n",
    "model = whisper.load_model(\"medium\", device=\"cpu\")\n",
    "\n",
    "#if not os.path.exists(\"sample1.wav\"):\n",
    "#    urllib.request.urlretrieve(\"[6](https://github.com/itsupera/audiobook_alignment/raw/main/samples/sample1.wav)\", \"sample1.wav\")\n",
    "audio_path=\"audio/Come STUDIARE allUNIVERSITÀ.mp3\"\n",
    "\n",
    "from pydub import AudioSegment\n",
    "# convert to .wav\n",
    "def convert_to_wav(audio_path):\n",
    "    # Controlla l'estensione del file\n",
    "    filename, file_extension = os.path.splitext(audio_path)\n",
    "    if file_extension != \".wav\":\n",
    "        # Se il file non è in formato .wav, convertilo\n",
    "        audio = AudioSegment.from_file(audio_path)\n",
    "        new_audio_path = filename + \".wav\"\n",
    "        audio.export(new_audio_path, format=\"wav\")\n",
    "        print(f\"File convertito in .wav e salvato come {new_audio_path}\")\n",
    "        return new_audio_path\n",
    "    else:\n",
    "        # Se il file è già in formato .wav, restituisci semplicemente il percorso del file originale\n",
    "        print(\"Il file è già in formato .wav\")\n",
    "        return audio_path\n",
    "\n",
    "def translate(audio_file,translate_language:str = None):\n",
    "    options = dict(beam_size=5, best_of=5)\n",
    "    translate_options = dict(task=\"translate\", **options)\n",
    "    result = model.transcribe(convert_to_wav(audio_file),**translate_options)\n",
    "    if translate_language!=None:\n",
    "        result=whisper.translate(result[\"text\"],target_language=translate_language)\n",
    "    else:\n",
    "        result=result[\"text\"]\n",
    "    return result\n",
    "\n",
    "result=translate(audio_path)"
   ]
  }
 ],
 "metadata": {
  "kernelspec": {
   "display_name": "transcriptor",
   "language": "python",
   "name": "python3"
  },
  "language_info": {
   "codemirror_mode": {
    "name": "ipython",
    "version": 3
   },
   "file_extension": ".py",
   "mimetype": "text/x-python",
   "name": "python",
   "nbconvert_exporter": "python",
   "pygments_lexer": "ipython3",
   "version": "3.10.13"
  },
  "orig_nbformat": 4
 },
 "nbformat": 4,
 "nbformat_minor": 2
}
